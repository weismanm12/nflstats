{
 "cells": [
  {
   "cell_type": "code",
   "execution_count": 1,
   "id": "d6e3ce87",
   "metadata": {},
   "outputs": [],
   "source": [
    "import nfl_data_py as nfl"
   ]
  },
  {
   "cell_type": "code",
   "execution_count": 2,
   "id": "17e709e8",
   "metadata": {},
   "outputs": [
    {
     "name": "stdout",
     "output_type": "stream",
     "text": [
      "Downcasting floats.\n"
     ]
    }
   ],
   "source": [
    "df = nfl.import_weekly_data([2023])"
   ]
  },
  {
   "cell_type": "code",
   "execution_count": 3,
   "id": "10a098b2",
   "metadata": {},
   "outputs": [],
   "source": [
    "weekly_rosters_df = nfl.import_weekly_rosters([2023])"
   ]
  },
  {
   "cell_type": "code",
   "execution_count": 4,
   "id": "31d973fb",
   "metadata": {},
   "outputs": [
    {
     "data": {
      "text/plain": [
       "Index(['season', 'team', 'position', 'depth_chart_position', 'jersey_number',\n",
       "       'status', 'player_name', 'first_name', 'last_name', 'birth_date',\n",
       "       'height', 'weight', 'college', 'player_id', 'espn_id', 'sportradar_id',\n",
       "       'yahoo_id', 'rotowire_id', 'pff_id', 'pfr_id', 'fantasy_data_id',\n",
       "       'sleeper_id', 'years_exp', 'headshot_url', 'ngs_position', 'week',\n",
       "       'game_type', 'status_description_abbr', 'football_name', 'esb_id',\n",
       "       'gsis_it_id', 'smart_id', 'entry_year', 'rookie_year', 'draft_club',\n",
       "       'draft_number', 'age'],\n",
       "      dtype='object')"
      ]
     },
     "execution_count": 4,
     "metadata": {},
     "output_type": "execute_result"
    }
   ],
   "source": [
    "nfl.import_seasonal_rosters([2023]).columns"
   ]
  },
  {
   "cell_type": "markdown",
   "id": "15eb6960",
   "metadata": {},
   "source": [
    "## Create Players DataFrame"
   ]
  },
  {
   "cell_type": "code",
   "execution_count": 5,
   "id": "c1d55d63",
   "metadata": {},
   "outputs": [],
   "source": [
    "players_cols = [\n",
    "    \"player_id\", \n",
    "    \"player_name\",\n",
    "    \"first_name\", \n",
    "    \"last_name\", \n",
    "    \"position\",\n",
    "    \"ngs_position\",\n",
    "    \"birth_date\",\n",
    "    \"height\", \n",
    "    \"weight\",\n",
    "    \"college\",\n",
    "    \"rookie_year\"\n",
    "]\n",
    "players_df = nfl.import_seasonal_rosters([2023])\n",
    "players_df = players_df[players_cols]"
   ]
  },
  {
   "cell_type": "code",
   "execution_count": 6,
   "id": "b9c37feb",
   "metadata": {},
   "outputs": [],
   "source": [
    "position_groupings = [\"OL\", \"DL\", \"DB\"]\n",
    "players_df.loc[players_df[\"position\"].isin(position_groupings), \"position\"] = players_df[\"ngs_position\"]"
   ]
  },
  {
   "cell_type": "code",
   "execution_count": 7,
   "id": "c917670c",
   "metadata": {},
   "outputs": [],
   "source": [
    "players_df.loc[players_df[\"ngs_position\"] == \"FB\", \"position\"] = \"FB\""
   ]
  },
  {
   "cell_type": "code",
   "execution_count": 13,
   "id": "f95296c2",
   "metadata": {},
   "outputs": [],
   "source": [
    "players_df[\"position\"].unique()\n",
    "\n",
    "map_dict = {\n",
    "    \"INTERIOR_LINE\": \"DT\",\n",
    "    \"SAFETY\": \"S\",\n",
    "    \"SLOT_CB\": \"CB\",\n",
    "    \"MLB\": \"LB\",\n",
    "    \"OLB\": \"LB\",\n",
    "    \"T\": \"OT\"\n",
    "}\n",
    "players_df[\"position\"] = players_df[\"position\"].replace(map_dict)"
   ]
  },
  {
   "cell_type": "code",
   "execution_count": 9,
   "id": "69298225",
   "metadata": {},
   "outputs": [],
   "source": [
    "players_df.drop(\"ngs_position\", axis=1, inplace=True)"
   ]
  },
  {
   "cell_type": "code",
   "execution_count": 14,
   "id": "656fc0fa",
   "metadata": {},
   "outputs": [
    {
     "data": {
      "text/html": [
       "<div>\n",
       "<style scoped>\n",
       "    .dataframe tbody tr th:only-of-type {\n",
       "        vertical-align: middle;\n",
       "    }\n",
       "\n",
       "    .dataframe tbody tr th {\n",
       "        vertical-align: top;\n",
       "    }\n",
       "\n",
       "    .dataframe thead th {\n",
       "        text-align: right;\n",
       "    }\n",
       "</style>\n",
       "<table border=\"1\" class=\"dataframe\">\n",
       "  <thead>\n",
       "    <tr style=\"text-align: right;\">\n",
       "      <th></th>\n",
       "      <th>player_id</th>\n",
       "      <th>player_name</th>\n",
       "      <th>first_name</th>\n",
       "      <th>last_name</th>\n",
       "      <th>position</th>\n",
       "      <th>birth_date</th>\n",
       "      <th>height</th>\n",
       "      <th>weight</th>\n",
       "      <th>college</th>\n",
       "      <th>rookie_year</th>\n",
       "    </tr>\n",
       "  </thead>\n",
       "  <tbody>\n",
       "  </tbody>\n",
       "</table>\n",
       "</div>"
      ],
      "text/plain": [
       "Empty DataFrame\n",
       "Columns: [player_id, player_name, first_name, last_name, position, birth_date, height, weight, college, rookie_year]\n",
       "Index: []"
      ]
     },
     "execution_count": 14,
     "metadata": {},
     "output_type": "execute_result"
    }
   ],
   "source": [
    "players_df[players_df[\"position\"] == \"T\"]"
   ]
  },
  {
   "cell_type": "code",
   "execution_count": 15,
   "id": "06d1bfee",
   "metadata": {},
   "outputs": [
    {
     "data": {
      "text/plain": [
       "array(['OT', 'QB', 'K', 'TE', 'LS', None, 'EDGE', 'WR', 'P', 'LB', 'CB',\n",
       "       'DT', 'RB', 'C', 'S', 'G', 'FB'], dtype=object)"
      ]
     },
     "execution_count": 15,
     "metadata": {},
     "output_type": "execute_result"
    }
   ],
   "source": [
    "players_df[\"position\"].unique()"
   ]
  },
  {
   "cell_type": "code",
   "execution_count": null,
   "id": "149b5b9d",
   "metadata": {},
   "outputs": [],
   "source": []
  }
 ],
 "metadata": {
  "kernelspec": {
   "display_name": "Python 3 (ipykernel)",
   "language": "python",
   "name": "python3"
  },
  "language_info": {
   "codemirror_mode": {
    "name": "ipython",
    "version": 3
   },
   "file_extension": ".py",
   "mimetype": "text/x-python",
   "name": "python",
   "nbconvert_exporter": "python",
   "pygments_lexer": "ipython3",
   "version": "3.10.9"
  },
  "toc": {
   "base_numbering": 1,
   "nav_menu": {},
   "number_sections": true,
   "sideBar": true,
   "skip_h1_title": false,
   "title_cell": "Table of Contents",
   "title_sidebar": "Contents",
   "toc_cell": false,
   "toc_position": {},
   "toc_section_display": true,
   "toc_window_display": false
  }
 },
 "nbformat": 4,
 "nbformat_minor": 5
}
